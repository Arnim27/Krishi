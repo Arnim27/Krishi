{
 "cells": [
  {
   "cell_type": "code",
   "execution_count": 43,
   "id": "de0ac7fd",
   "metadata": {},
   "outputs": [],
   "source": [
    "import matplotlib.pyplot as plt\n",
    "%matplotlib inline\n",
    "import pandas as pd\n",
    "import numpy as np\n",
    "import PIL\n",
    "from PIL import Image\n",
    "from skimage.color import rgb2gray\n",
    "from scipy import ndimage as ndi\n",
    "import cv2\n",
    "import os\n",
    "from os import listdir\n",
    "from sklearn.utils import shuffle\n",
    "\n",
    "import keras\n",
    "from keras.models import Sequential, load_model\n",
    "from keras.layers import Dense, Activation, Conv2D, MaxPooling2D, Flatten, Dropout, BatchNormalization\n",
    "from keras.optimizers import SGD\n",
    "from keras import regularizers\n",
    "from keras.callbacks import ModelCheckpoint"
   ]
  },
  {
   "cell_type": "code",
   "execution_count": 44,
   "id": "b56dc4aa",
   "metadata": {},
   "outputs": [
    {
     "name": "stdout",
     "output_type": "stream",
     "text": [
      "15\n"
     ]
    }
   ],
   "source": [
    "directory_root = \"cropped\"\n",
    "print(len(listdir(directory_root)))"
   ]
  },
  {
   "cell_type": "code",
   "execution_count": 45,
   "id": "b91aeea8",
   "metadata": {},
   "outputs": [
    {
     "name": "stdout",
     "output_type": "stream",
     "text": [
      "[INFO] Loading images ...\n",
      "[INFO] Image loading completed\n"
     ]
    }
   ],
   "source": [
    "image_list, label_list = [], []\n",
    "try:\n",
    "    print(\"[INFO] Loading images ...\")\n",
    "    root_dir = listdir(directory_root)\n",
    "    for directory in root_dir :\n",
    "        # remove .DS_Store from list\n",
    "        if directory == \".DS_Store\" :\n",
    "            root_dir.remove(directory)\n",
    "\n",
    "    for plant_folder in root_dir :\n",
    "        plant_disease_folder_list = listdir(f\"{directory_root}/{plant_folder}\")\n",
    "                \n",
    "        for single_plant_disease_image in plant_disease_folder_list :\n",
    "            if single_plant_disease_image == \".DS_Store\" :\n",
    "                plant_disease_folder_list.remove(single_plant_disease_image)\n",
    "\n",
    "        for image in plant_disease_folder_list:\n",
    "            image_directory = f\"{directory_root}/{plant_folder}/{image}\"\n",
    "            if image_directory.endswith(\".jpg\") == True or image_directory.endswith(\".JPG\") == True:\n",
    "                image_list.append(image_directory)\n",
    "                label_list.append(plant_folder)\n",
    "    print(\"[INFO] Image loading completed\")  \n",
    "except Exception as e:\n",
    "    print(f\"Error : {e}\")"
   ]
  },
  {
   "cell_type": "code",
   "execution_count": 46,
   "id": "9459905e",
   "metadata": {},
   "outputs": [
    {
     "name": "stdout",
     "output_type": "stream",
     "text": [
      "                                          image_path  \\\n",
      "0  cropped/Pepper__bell___Bacterial_spot/0022d6b7...   \n",
      "1  cropped/Pepper__bell___Bacterial_spot/006adb74...   \n",
      "2  cropped/Pepper__bell___Bacterial_spot/00f2e69a...   \n",
      "3  cropped/Pepper__bell___Bacterial_spot/01613cd0...   \n",
      "4  cropped/Pepper__bell___Bacterial_spot/0169b9ac...   \n",
      "\n",
      "                           label  \n",
      "0  Pepper__bell___Bacterial_spot  \n",
      "1  Pepper__bell___Bacterial_spot  \n",
      "2  Pepper__bell___Bacterial_spot  \n",
      "3  Pepper__bell___Bacterial_spot  \n",
      "4  Pepper__bell___Bacterial_spot  \n",
      "20636\n"
     ]
    }
   ],
   "source": [
    "img_info = pd.DataFrame({'image_path':image_list,'label':label_list})\n",
    "print(img_info.head())\n",
    "print(len(img_info))"
   ]
  },
  {
   "cell_type": "code",
   "execution_count": 47,
   "id": "e5c2f2de",
   "metadata": {},
   "outputs": [
    {
     "data": {
      "text/html": [
       "<div>\n",
       "<style scoped>\n",
       "    .dataframe tbody tr th:only-of-type {\n",
       "        vertical-align: middle;\n",
       "    }\n",
       "\n",
       "    .dataframe tbody tr th {\n",
       "        vertical-align: top;\n",
       "    }\n",
       "\n",
       "    .dataframe thead th {\n",
       "        text-align: right;\n",
       "    }\n",
       "</style>\n",
       "<table border=\"1\" class=\"dataframe\">\n",
       "  <thead>\n",
       "    <tr style=\"text-align: right;\">\n",
       "      <th></th>\n",
       "      <th>image_path</th>\n",
       "      <th>label</th>\n",
       "      <th>labels_integer</th>\n",
       "    </tr>\n",
       "  </thead>\n",
       "  <tbody>\n",
       "    <tr>\n",
       "      <th>20631</th>\n",
       "      <td>cropped/Tomato__Tomato_YellowLeaf__Curl_Virus/...</td>\n",
       "      <td>Tomato__Tomato_YellowLeaf__Curl_Virus</td>\n",
       "      <td>14</td>\n",
       "    </tr>\n",
       "    <tr>\n",
       "      <th>20632</th>\n",
       "      <td>cropped/Tomato__Tomato_YellowLeaf__Curl_Virus/...</td>\n",
       "      <td>Tomato__Tomato_YellowLeaf__Curl_Virus</td>\n",
       "      <td>14</td>\n",
       "    </tr>\n",
       "    <tr>\n",
       "      <th>20633</th>\n",
       "      <td>cropped/Tomato__Tomato_YellowLeaf__Curl_Virus/...</td>\n",
       "      <td>Tomato__Tomato_YellowLeaf__Curl_Virus</td>\n",
       "      <td>14</td>\n",
       "    </tr>\n",
       "    <tr>\n",
       "      <th>20634</th>\n",
       "      <td>cropped/Tomato__Tomato_YellowLeaf__Curl_Virus/...</td>\n",
       "      <td>Tomato__Tomato_YellowLeaf__Curl_Virus</td>\n",
       "      <td>14</td>\n",
       "    </tr>\n",
       "    <tr>\n",
       "      <th>20635</th>\n",
       "      <td>cropped/Tomato__Tomato_YellowLeaf__Curl_Virus/...</td>\n",
       "      <td>Tomato__Tomato_YellowLeaf__Curl_Virus</td>\n",
       "      <td>14</td>\n",
       "    </tr>\n",
       "  </tbody>\n",
       "</table>\n",
       "</div>"
      ],
      "text/plain": [
       "                                              image_path  \\\n",
       "20631  cropped/Tomato__Tomato_YellowLeaf__Curl_Virus/...   \n",
       "20632  cropped/Tomato__Tomato_YellowLeaf__Curl_Virus/...   \n",
       "20633  cropped/Tomato__Tomato_YellowLeaf__Curl_Virus/...   \n",
       "20634  cropped/Tomato__Tomato_YellowLeaf__Curl_Virus/...   \n",
       "20635  cropped/Tomato__Tomato_YellowLeaf__Curl_Virus/...   \n",
       "\n",
       "                                       label labels_integer  \n",
       "20631  Tomato__Tomato_YellowLeaf__Curl_Virus             14  \n",
       "20632  Tomato__Tomato_YellowLeaf__Curl_Virus             14  \n",
       "20633  Tomato__Tomato_YellowLeaf__Curl_Virus             14  \n",
       "20634  Tomato__Tomato_YellowLeaf__Curl_Virus             14  \n",
       "20635  Tomato__Tomato_YellowLeaf__Curl_Virus             14  "
      ]
     },
     "execution_count": 47,
     "metadata": {},
     "output_type": "execute_result"
    }
   ],
   "source": [
    "#new column (empty)\n",
    "img_info[\"labels_integer\"] = None\n",
    "#index of new column\n",
    "index_labels_integer = img_info.columns.get_loc(\"labels_integer\")\n",
    "#index of species column\n",
    "index_species = img_info.columns.get_loc(\"label\")\n",
    "#to assign numeric labels starting with 0 for the first species\n",
    "k = 0 \n",
    "for i in range(len(img_info)):\n",
    "    if i == 0:\n",
    "        img_info.iloc[i, index_labels_integer] = k #here, k == 0\n",
    "    if i > 0:\n",
    "        if img_info.iloc[i-1, index_species] == img_info.iloc[i, index_species]:\n",
    "            img_info.iloc[i, index_labels_integer] = k\n",
    "        else:\n",
    "            k += 1\n",
    "            img_info.iloc[i, index_labels_integer] = k\n",
    "img_info.tail()"
   ]
  },
  {
   "cell_type": "code",
   "execution_count": 48,
   "id": "a110b168",
   "metadata": {},
   "outputs": [
    {
     "name": "stderr",
     "output_type": "stream",
     "text": [
      "C:\\Users\\arnim\\AppData\\Local\\Temp\\ipykernel_25876\\4176944210.py:8: DeprecationWarning: ANTIALIAS is deprecated and will be removed in Pillow 10 (2023-07-01). Use Resampling.LANCZOS instead.\n",
      "  img = img.resize(size, PIL.Image.ANTIALIAS)\n"
     ]
    },
    {
     "name": "stdout",
     "output_type": "stream",
     "text": [
      "20636\n"
     ]
    }
   ],
   "source": [
    "img_info = shuffle(img_info)\n",
    "list_vectors = []\n",
    "\n",
    "for image_path in img_info.image_path:\n",
    "    #read as rgb array\n",
    "    img = Image.open(image_path)\n",
    "    size = (128,128)\n",
    "    img = img.resize(size, PIL.Image.ANTIALIAS)  \n",
    "    img_array = np.array(img)\n",
    "    #append image vector to list\n",
    "    list_vectors.append(img_array)\n",
    "    \n",
    "print(len(list_vectors))"
   ]
  },
  {
   "cell_type": "code",
   "execution_count": 49,
   "id": "8dff3b19",
   "metadata": {},
   "outputs": [
    {
     "name": "stdout",
     "output_type": "stream",
     "text": [
      "(20636, 128, 128, 3)\n"
     ]
    }
   ],
   "source": [
    "X = np.stack((list_vectors))\n",
    "Y =  img_info['labels_integer']\n",
    "print(X.shape)"
   ]
  },
  {
   "cell_type": "code",
   "execution_count": 50,
   "id": "443310ef",
   "metadata": {},
   "outputs": [
    {
     "ename": "MemoryError",
     "evalue": "Unable to allocate 7.56 GiB for an array with shape (20636, 128, 128, 3) and data type float64",
     "output_type": "error",
     "traceback": [
      "\u001b[1;31m---------------------------------------------------------------------------\u001b[0m",
      "\u001b[1;31mMemoryError\u001b[0m                               Traceback (most recent call last)",
      "\u001b[1;32m~\\AppData\\Local\\Temp\\ipykernel_25876\\3740938021.py\u001b[0m in \u001b[0;36m<module>\u001b[1;34m\u001b[0m\n\u001b[1;32m----> 1\u001b[1;33m \u001b[0mX\u001b[0m \u001b[1;33m=\u001b[0m \u001b[0mX\u001b[0m\u001b[1;33m/\u001b[0m\u001b[1;36m255\u001b[0m\u001b[1;33m\u001b[0m\u001b[1;33m\u001b[0m\u001b[0m\n\u001b[0m\u001b[0;32m      2\u001b[0m \u001b[0mY_one_hot\u001b[0m \u001b[1;33m=\u001b[0m \u001b[0mkeras\u001b[0m\u001b[1;33m.\u001b[0m\u001b[0mutils\u001b[0m\u001b[1;33m.\u001b[0m\u001b[0mto_categorical\u001b[0m\u001b[1;33m(\u001b[0m\u001b[0mY\u001b[0m\u001b[1;33m,\u001b[0m \u001b[0mnum_classes\u001b[0m\u001b[1;33m=\u001b[0m\u001b[1;36m15\u001b[0m\u001b[1;33m)\u001b[0m\u001b[1;33m\u001b[0m\u001b[1;33m\u001b[0m\u001b[0m\n\u001b[0;32m      3\u001b[0m \u001b[0mprint\u001b[0m\u001b[1;33m(\u001b[0m\u001b[0mY\u001b[0m\u001b[1;33m.\u001b[0m\u001b[0mshape\u001b[0m\u001b[1;33m,\u001b[0m \u001b[0mY_one_hot\u001b[0m\u001b[1;33m.\u001b[0m\u001b[0mshape\u001b[0m\u001b[1;33m)\u001b[0m\u001b[1;33m\u001b[0m\u001b[1;33m\u001b[0m\u001b[0m\n",
      "\u001b[1;31mMemoryError\u001b[0m: Unable to allocate 7.56 GiB for an array with shape (20636, 128, 128, 3) and data type float64"
     ]
    }
   ],
   "source": [
    "X = X/255\n",
    "Y_one_hot = keras.utils.to_categorical(Y, num_classes=15)\n",
    "print(Y.shape, Y_one_hot.shape)"
   ]
  },
  {
   "cell_type": "code",
   "execution_count": null,
   "id": "59847012",
   "metadata": {},
   "outputs": [],
   "source": [
    "np.savez(\"x_images_arrayscnn\", X)\n",
    "np.savez(\"y_numeric_labelscnn\", Y_one_hot)"
   ]
  },
  {
   "cell_type": "code",
   "execution_count": null,
   "id": "558a2642",
   "metadata": {},
   "outputs": [],
   "source": [
    "x_npz = np.load(\"x_images_arrayscnn.npz\")\n",
    "X = x_npz['arr_0']\n",
    "\n",
    "y_npz = np.load(\"y_numeric_labelscnn.npz\")\n",
    "Y_one_hot = y_npz['arr_0']\n",
    "\n",
    "print(X.shape)"
   ]
  },
  {
   "cell_type": "code",
   "execution_count": null,
   "id": "86b74cea",
   "metadata": {},
   "outputs": [],
   "source": [
    "split_train = 0.8 #train 0.8, validate 0.1, test 0.1\n",
    "split_val = 0.9\n",
    "index_train = int(split_train*len(X))\n",
    "index_val = int(split_val*len(X))\n",
    "\n",
    "X_train = X[:index_train]\n",
    "X_val = X[index_train:index_val]\n",
    "X_test = X[index_val:]\n",
    "\n",
    "Y_train = Y_one_hot[:index_train]\n",
    "Y_val = Y_one_hot[index_train:index_val]\n",
    "Y_test = Y_one_hot[index_val:]\n",
    "\n",
    "\n",
    "print(X_train.shape, X_val.shape, X_test.shape, Y_train.shape, Y_val.shape, Y_test.shape)"
   ]
  },
  {
   "cell_type": "code",
   "execution_count": null,
   "id": "01c6c47c",
   "metadata": {},
   "outputs": [],
   "source": [
    "from tensorflow.keras.models import Sequential, load_model\n",
    "from tensorflow.keras.layers import Conv2D, Activation, MaxPooling2D, Dropout, Flatten, Dense\n",
    "from tensorflow.keras.callbacks import ModelCheckpoint\n",
    "from tensorflow.keras.optimizers import Adam\n",
    "from tensorflow.keras.utils import to_categorical\n",
    "\n",
    "# Define the number of classes\n",
    "num_classes = 15\n",
    "\n",
    "# Ensure labels are one-hot encoded\n",
    "Y_train = to_categorical(Y_train, num_classes=num_classes)\n",
    "Y_val = to_categorical(Y_val, num_classes=num_classes)\n",
    "\n",
    "# Define the model\n",
    "model = Sequential()\n",
    "model.add(Conv2D(32, kernel_size=(5, 5), strides=(1, 1), input_shape=(128,128, 3)))\n",
    "model.add(Activation('relu'))\n",
    "model.add(MaxPooling2D(pool_size=(2, 2), strides=(2, 2)))\n",
    "model.add(Conv2D(64, (5, 5)))\n",
    "model.add(Activation('relu'))\n",
    "model.add(MaxPooling2D(pool_size=(2, 2)))\n",
    "model.add(Dropout(0.7))\n",
    "model.add(Flatten())\n",
    "model.add(Dense(1000))\n",
    "model.add(Activation('relu'))\n",
    "model.add(Dropout(0.7))\n",
    "model.add(Dense(num_classes, activation='softmax'))\n",
    "\n",
    "# Compile the model\n",
    "model.compile(optimizer=Adam(learning_rate=0.0003, beta_1=0.9, beta_2=0.999, epsilon=None, amsgrad=False),\n",
    "              loss='categorical_crossentropy',\n",
    "              metrics=['accuracy'])\n",
    "\n",
    "# Define the callback to save the best model\n",
    "best_model_file = \"disease_selected_100.h5\"\n",
    "best_model = ModelCheckpoint(best_model_file, monitor='val_loss', verbose=1, save_best_only=True)\n",
    "\n",
    "# Train the model\n",
    "print('Training model...')\n",
    "results = model.fit(X_train, Y_train, \n",
    "                    epochs=200, \n",
    "                    batch_size=64, \n",
    "                    validation_data=(X_val, Y_val), \n",
    "                    callbacks=[best_model])\n",
    "print('Training finished.')\n",
    "\n",
    "# Load the best saved model\n",
    "print('Loading the best model...')\n",
    "model = load_model(best_model_file)\n",
    "print('Best model loaded!')"
   ]
  },
  {
   "cell_type": "code",
   "execution_count": null,
   "id": "f1f4c17b",
   "metadata": {},
   "outputs": [],
   "source": [
    "model.summary()"
   ]
  },
  {
   "cell_type": "code",
   "execution_count": 41,
   "id": "2f7113a3",
   "metadata": {},
   "outputs": [],
   "source": [
    "Y_train = Y_train.reshape(-1, 15)\n",
    "Y_val = Y_val.reshape(-1, 15)\n"
   ]
  },
  {
   "cell_type": "code",
   "execution_count": 42,
   "id": "0bab26f5",
   "metadata": {},
   "outputs": [
    {
     "name": "stdout",
     "output_type": "stream",
     "text": [
      "(3714300, 15)\n",
      "(464400, 15)\n"
     ]
    }
   ],
   "source": [
    "print(Y_train.shape)  # Should be (n_samples, 15)\n",
    "print(Y_val.shape)    # Should be (n_samples, 15)\n"
   ]
  },
  {
   "cell_type": "code",
   "execution_count": null,
   "id": "6b102685",
   "metadata": {},
   "outputs": [],
   "source": []
  }
 ],
 "metadata": {
  "kernelspec": {
   "display_name": "Python 3 (ipykernel)",
   "language": "python",
   "name": "python3"
  },
  "language_info": {
   "codemirror_mode": {
    "name": "ipython",
    "version": 3
   },
   "file_extension": ".py",
   "mimetype": "text/x-python",
   "name": "python",
   "nbconvert_exporter": "python",
   "pygments_lexer": "ipython3",
   "version": "3.9.13"
  }
 },
 "nbformat": 4,
 "nbformat_minor": 5
}
