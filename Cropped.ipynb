{
 "cells": [
  {
   "cell_type": "code",
   "execution_count": 1,
   "id": "d0a5508e",
   "metadata": {},
   "outputs": [],
   "source": [
    "import numpy as np \n",
    "from tqdm import tqdm\n",
    "import cv2\n",
    "import os\n",
    "import imutils"
   ]
  },
  {
   "cell_type": "code",
   "execution_count": 3,
   "id": "5c12837c",
   "metadata": {},
   "outputs": [
    {
     "name": "stdout",
     "output_type": "stream",
     "text": [
      "Error processing PlantVillage\\Tomato__Tomato_YellowLeaf__Curl_Virus\\svn-r6Yb5c: cannot identify image file 'PlantVillage\\\\Tomato__Tomato_YellowLeaf__Curl_Virus\\\\svn-r6Yb5c'\n",
      "Cropping and resizing completed!\n"
     ]
    }
   ],
   "source": [
    "import os\n",
    "from PIL import Image\n",
    "\n",
    "# Set paths\n",
    "input_dir = 'PlantVillage'  # Original dataset directory\n",
    "output_dir = 'cropped'  # Directory to save cropped images\n",
    "\n",
    "# Create the output directory if it doesn't exist\n",
    "os.makedirs(output_dir, exist_ok=True)\n",
    "\n",
    "# Function to crop and resize images\n",
    "def crop_and_resize_image(image_path, output_path, size=(128, 128)):\n",
    "    try:\n",
    "        with Image.open(image_path) as img:\n",
    "            img = img.resize(size)  # Resize the image to 128x128\n",
    "            os.makedirs(os.path.dirname(output_path), exist_ok=True)  # Create output subdirectory if not exists\n",
    "            img.save(output_path)  # Save the resized image\n",
    "    except Exception as e:\n",
    "        print(f\"Error processing {image_path}: {e}\")\n",
    "\n",
    "# Process each subdirectory\n",
    "for subdir in os.listdir(input_dir):\n",
    "    subdir_path = os.path.join(input_dir, subdir)\n",
    "    if os.path.isdir(subdir_path):  # Check if it's a directory\n",
    "        for image_name in os.listdir(subdir_path):\n",
    "            image_path = os.path.join(subdir_path, image_name)\n",
    "            if os.path.isfile(image_path):  # Check if it's a file\n",
    "                output_subdir = os.path.join(output_dir, subdir)\n",
    "                output_image_path = os.path.join(output_subdir, image_name)\n",
    "                crop_and_resize_image(image_path, output_image_path)\n",
    "\n",
    "print(\"Cropping and resizing completed!\")\n"
   ]
  },
  {
   "cell_type": "code",
   "execution_count": null,
   "id": "9201ab62",
   "metadata": {},
   "outputs": [],
   "source": []
  }
 ],
 "metadata": {
  "kernelspec": {
   "display_name": "Python 3 (ipykernel)",
   "language": "python",
   "name": "python3"
  },
  "language_info": {
   "codemirror_mode": {
    "name": "ipython",
    "version": 3
   },
   "file_extension": ".py",
   "mimetype": "text/x-python",
   "name": "python",
   "nbconvert_exporter": "python",
   "pygments_lexer": "ipython3",
   "version": "3.9.13"
  }
 },
 "nbformat": 4,
 "nbformat_minor": 5
}
